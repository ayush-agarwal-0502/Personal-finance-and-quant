{
  "nbformat": 4,
  "nbformat_minor": 0,
  "metadata": {
    "colab": {
      "provenance": []
    },
    "kernelspec": {
      "name": "python3",
      "display_name": "Python 3"
    },
    "language_info": {
      "name": "python"
    }
  },
  "cells": [
    {
      "cell_type": "markdown",
      "source": [
        "Analysis of mutual funds in India\n",
        "\n",
        "By Ayush Agarwal\n",
        "IIT BHU ECE 24\n"
      ],
      "metadata": {
        "id": "6vuV5o1vTYdJ"
      }
    },
    {
      "cell_type": "code",
      "execution_count": 22,
      "metadata": {
        "id": "Bjm0zmC09GQe"
      },
      "outputs": [],
      "source": [
        "import numpy as np\n",
        "import pandas as pd\n",
        "import matplotlib.pyplot as plt\n",
        "import seaborn as sns"
      ]
    },
    {
      "cell_type": "code",
      "source": [
        "df = pd.read_excel('/content/mutual fund past year returns.xlsx',sheet_name='Sheet5')\n",
        "# https://pandas.pydata.org/pandas-docs/stable/reference/api/pandas.read_excel.html"
      ],
      "metadata": {
        "id": "0eyVTmZWSKW2"
      },
      "execution_count": 23,
      "outputs": []
    },
    {
      "cell_type": "code",
      "source": [
        "df.head()"
      ],
      "metadata": {
        "colab": {
          "base_uri": "https://localhost:8080/",
          "height": 206
        },
        "id": "J1-SCVBISOBR",
        "outputId": "6d03334c-3428-42cc-8751-89708519bc32"
      },
      "execution_count": 24,
      "outputs": [
        {
          "output_type": "execute_result",
          "data": {
            "text/plain": [
              "                                         Scheme name    2023    2022    2021  \\\n",
              "0   Nippon India Strategic Debt Fund Medium Duration  0.0762  0.0260  0.1809   \n",
              "1                         JM Flexicap Fund Flexi Cap  0.4155  0.0869  0.3398   \n",
              "2  Aditya Birla Sun Life Medium Term Fund Medium ...  0.0769  0.2573  0.0769   \n",
              "3  ICICI Prudential Income Optimizer Fund (FOF) H...  0.1529  0.0768  0.1141   \n",
              "4                         Quant Focused Fund Focused  0.3034  0.1181  0.3860   \n",
              "\n",
              "     2020    2019  \n",
              "0 -0.2307 -0.0259  \n",
              "1  0.1225  0.1754  \n",
              "2  0.0894 -0.0378  \n",
              "3  0.0987  0.0914  \n",
              "4  0.2538  0.0422  "
            ],
            "text/html": [
              "\n",
              "  <div id=\"df-3c552afc-6565-4313-8740-4f5b794a3df9\" class=\"colab-df-container\">\n",
              "    <div>\n",
              "<style scoped>\n",
              "    .dataframe tbody tr th:only-of-type {\n",
              "        vertical-align: middle;\n",
              "    }\n",
              "\n",
              "    .dataframe tbody tr th {\n",
              "        vertical-align: top;\n",
              "    }\n",
              "\n",
              "    .dataframe thead th {\n",
              "        text-align: right;\n",
              "    }\n",
              "</style>\n",
              "<table border=\"1\" class=\"dataframe\">\n",
              "  <thead>\n",
              "    <tr style=\"text-align: right;\">\n",
              "      <th></th>\n",
              "      <th>Scheme name</th>\n",
              "      <th>2023</th>\n",
              "      <th>2022</th>\n",
              "      <th>2021</th>\n",
              "      <th>2020</th>\n",
              "      <th>2019</th>\n",
              "    </tr>\n",
              "  </thead>\n",
              "  <tbody>\n",
              "    <tr>\n",
              "      <th>0</th>\n",
              "      <td>Nippon India Strategic Debt Fund Medium Duration</td>\n",
              "      <td>0.0762</td>\n",
              "      <td>0.0260</td>\n",
              "      <td>0.1809</td>\n",
              "      <td>-0.2307</td>\n",
              "      <td>-0.0259</td>\n",
              "    </tr>\n",
              "    <tr>\n",
              "      <th>1</th>\n",
              "      <td>JM Flexicap Fund Flexi Cap</td>\n",
              "      <td>0.4155</td>\n",
              "      <td>0.0869</td>\n",
              "      <td>0.3398</td>\n",
              "      <td>0.1225</td>\n",
              "      <td>0.1754</td>\n",
              "    </tr>\n",
              "    <tr>\n",
              "      <th>2</th>\n",
              "      <td>Aditya Birla Sun Life Medium Term Fund Medium ...</td>\n",
              "      <td>0.0769</td>\n",
              "      <td>0.2573</td>\n",
              "      <td>0.0769</td>\n",
              "      <td>0.0894</td>\n",
              "      <td>-0.0378</td>\n",
              "    </tr>\n",
              "    <tr>\n",
              "      <th>3</th>\n",
              "      <td>ICICI Prudential Income Optimizer Fund (FOF) H...</td>\n",
              "      <td>0.1529</td>\n",
              "      <td>0.0768</td>\n",
              "      <td>0.1141</td>\n",
              "      <td>0.0987</td>\n",
              "      <td>0.0914</td>\n",
              "    </tr>\n",
              "    <tr>\n",
              "      <th>4</th>\n",
              "      <td>Quant Focused Fund Focused</td>\n",
              "      <td>0.3034</td>\n",
              "      <td>0.1181</td>\n",
              "      <td>0.3860</td>\n",
              "      <td>0.2538</td>\n",
              "      <td>0.0422</td>\n",
              "    </tr>\n",
              "  </tbody>\n",
              "</table>\n",
              "</div>\n",
              "    <div class=\"colab-df-buttons\">\n",
              "\n",
              "  <div class=\"colab-df-container\">\n",
              "    <button class=\"colab-df-convert\" onclick=\"convertToInteractive('df-3c552afc-6565-4313-8740-4f5b794a3df9')\"\n",
              "            title=\"Convert this dataframe to an interactive table.\"\n",
              "            style=\"display:none;\">\n",
              "\n",
              "  <svg xmlns=\"http://www.w3.org/2000/svg\" height=\"24px\" viewBox=\"0 -960 960 960\">\n",
              "    <path d=\"M120-120v-720h720v720H120Zm60-500h600v-160H180v160Zm220 220h160v-160H400v160Zm0 220h160v-160H400v160ZM180-400h160v-160H180v160Zm440 0h160v-160H620v160ZM180-180h160v-160H180v160Zm440 0h160v-160H620v160Z\"/>\n",
              "  </svg>\n",
              "    </button>\n",
              "\n",
              "  <style>\n",
              "    .colab-df-container {\n",
              "      display:flex;\n",
              "      gap: 12px;\n",
              "    }\n",
              "\n",
              "    .colab-df-convert {\n",
              "      background-color: #E8F0FE;\n",
              "      border: none;\n",
              "      border-radius: 50%;\n",
              "      cursor: pointer;\n",
              "      display: none;\n",
              "      fill: #1967D2;\n",
              "      height: 32px;\n",
              "      padding: 0 0 0 0;\n",
              "      width: 32px;\n",
              "    }\n",
              "\n",
              "    .colab-df-convert:hover {\n",
              "      background-color: #E2EBFA;\n",
              "      box-shadow: 0px 1px 2px rgba(60, 64, 67, 0.3), 0px 1px 3px 1px rgba(60, 64, 67, 0.15);\n",
              "      fill: #174EA6;\n",
              "    }\n",
              "\n",
              "    .colab-df-buttons div {\n",
              "      margin-bottom: 4px;\n",
              "    }\n",
              "\n",
              "    [theme=dark] .colab-df-convert {\n",
              "      background-color: #3B4455;\n",
              "      fill: #D2E3FC;\n",
              "    }\n",
              "\n",
              "    [theme=dark] .colab-df-convert:hover {\n",
              "      background-color: #434B5C;\n",
              "      box-shadow: 0px 1px 3px 1px rgba(0, 0, 0, 0.15);\n",
              "      filter: drop-shadow(0px 1px 2px rgba(0, 0, 0, 0.3));\n",
              "      fill: #FFFFFF;\n",
              "    }\n",
              "  </style>\n",
              "\n",
              "    <script>\n",
              "      const buttonEl =\n",
              "        document.querySelector('#df-3c552afc-6565-4313-8740-4f5b794a3df9 button.colab-df-convert');\n",
              "      buttonEl.style.display =\n",
              "        google.colab.kernel.accessAllowed ? 'block' : 'none';\n",
              "\n",
              "      async function convertToInteractive(key) {\n",
              "        const element = document.querySelector('#df-3c552afc-6565-4313-8740-4f5b794a3df9');\n",
              "        const dataTable =\n",
              "          await google.colab.kernel.invokeFunction('convertToInteractive',\n",
              "                                                    [key], {});\n",
              "        if (!dataTable) return;\n",
              "\n",
              "        const docLinkHtml = 'Like what you see? Visit the ' +\n",
              "          '<a target=\"_blank\" href=https://colab.research.google.com/notebooks/data_table.ipynb>data table notebook</a>'\n",
              "          + ' to learn more about interactive tables.';\n",
              "        element.innerHTML = '';\n",
              "        dataTable['output_type'] = 'display_data';\n",
              "        await google.colab.output.renderOutput(dataTable, element);\n",
              "        const docLink = document.createElement('div');\n",
              "        docLink.innerHTML = docLinkHtml;\n",
              "        element.appendChild(docLink);\n",
              "      }\n",
              "    </script>\n",
              "  </div>\n",
              "\n",
              "\n",
              "<div id=\"df-8ce64087-b7c0-4490-b3c3-3619d9929061\">\n",
              "  <button class=\"colab-df-quickchart\" onclick=\"quickchart('df-8ce64087-b7c0-4490-b3c3-3619d9929061')\"\n",
              "            title=\"Suggest charts\"\n",
              "            style=\"display:none;\">\n",
              "\n",
              "<svg xmlns=\"http://www.w3.org/2000/svg\" height=\"24px\"viewBox=\"0 0 24 24\"\n",
              "     width=\"24px\">\n",
              "    <g>\n",
              "        <path d=\"M19 3H5c-1.1 0-2 .9-2 2v14c0 1.1.9 2 2 2h14c1.1 0 2-.9 2-2V5c0-1.1-.9-2-2-2zM9 17H7v-7h2v7zm4 0h-2V7h2v10zm4 0h-2v-4h2v4z\"/>\n",
              "    </g>\n",
              "</svg>\n",
              "  </button>\n",
              "\n",
              "<style>\n",
              "  .colab-df-quickchart {\n",
              "      --bg-color: #E8F0FE;\n",
              "      --fill-color: #1967D2;\n",
              "      --hover-bg-color: #E2EBFA;\n",
              "      --hover-fill-color: #174EA6;\n",
              "      --disabled-fill-color: #AAA;\n",
              "      --disabled-bg-color: #DDD;\n",
              "  }\n",
              "\n",
              "  [theme=dark] .colab-df-quickchart {\n",
              "      --bg-color: #3B4455;\n",
              "      --fill-color: #D2E3FC;\n",
              "      --hover-bg-color: #434B5C;\n",
              "      --hover-fill-color: #FFFFFF;\n",
              "      --disabled-bg-color: #3B4455;\n",
              "      --disabled-fill-color: #666;\n",
              "  }\n",
              "\n",
              "  .colab-df-quickchart {\n",
              "    background-color: var(--bg-color);\n",
              "    border: none;\n",
              "    border-radius: 50%;\n",
              "    cursor: pointer;\n",
              "    display: none;\n",
              "    fill: var(--fill-color);\n",
              "    height: 32px;\n",
              "    padding: 0;\n",
              "    width: 32px;\n",
              "  }\n",
              "\n",
              "  .colab-df-quickchart:hover {\n",
              "    background-color: var(--hover-bg-color);\n",
              "    box-shadow: 0 1px 2px rgba(60, 64, 67, 0.3), 0 1px 3px 1px rgba(60, 64, 67, 0.15);\n",
              "    fill: var(--button-hover-fill-color);\n",
              "  }\n",
              "\n",
              "  .colab-df-quickchart-complete:disabled,\n",
              "  .colab-df-quickchart-complete:disabled:hover {\n",
              "    background-color: var(--disabled-bg-color);\n",
              "    fill: var(--disabled-fill-color);\n",
              "    box-shadow: none;\n",
              "  }\n",
              "\n",
              "  .colab-df-spinner {\n",
              "    border: 2px solid var(--fill-color);\n",
              "    border-color: transparent;\n",
              "    border-bottom-color: var(--fill-color);\n",
              "    animation:\n",
              "      spin 1s steps(1) infinite;\n",
              "  }\n",
              "\n",
              "  @keyframes spin {\n",
              "    0% {\n",
              "      border-color: transparent;\n",
              "      border-bottom-color: var(--fill-color);\n",
              "      border-left-color: var(--fill-color);\n",
              "    }\n",
              "    20% {\n",
              "      border-color: transparent;\n",
              "      border-left-color: var(--fill-color);\n",
              "      border-top-color: var(--fill-color);\n",
              "    }\n",
              "    30% {\n",
              "      border-color: transparent;\n",
              "      border-left-color: var(--fill-color);\n",
              "      border-top-color: var(--fill-color);\n",
              "      border-right-color: var(--fill-color);\n",
              "    }\n",
              "    40% {\n",
              "      border-color: transparent;\n",
              "      border-right-color: var(--fill-color);\n",
              "      border-top-color: var(--fill-color);\n",
              "    }\n",
              "    60% {\n",
              "      border-color: transparent;\n",
              "      border-right-color: var(--fill-color);\n",
              "    }\n",
              "    80% {\n",
              "      border-color: transparent;\n",
              "      border-right-color: var(--fill-color);\n",
              "      border-bottom-color: var(--fill-color);\n",
              "    }\n",
              "    90% {\n",
              "      border-color: transparent;\n",
              "      border-bottom-color: var(--fill-color);\n",
              "    }\n",
              "  }\n",
              "</style>\n",
              "\n",
              "  <script>\n",
              "    async function quickchart(key) {\n",
              "      const quickchartButtonEl =\n",
              "        document.querySelector('#' + key + ' button');\n",
              "      quickchartButtonEl.disabled = true;  // To prevent multiple clicks.\n",
              "      quickchartButtonEl.classList.add('colab-df-spinner');\n",
              "      try {\n",
              "        const charts = await google.colab.kernel.invokeFunction(\n",
              "            'suggestCharts', [key], {});\n",
              "      } catch (error) {\n",
              "        console.error('Error during call to suggestCharts:', error);\n",
              "      }\n",
              "      quickchartButtonEl.classList.remove('colab-df-spinner');\n",
              "      quickchartButtonEl.classList.add('colab-df-quickchart-complete');\n",
              "    }\n",
              "    (() => {\n",
              "      let quickchartButtonEl =\n",
              "        document.querySelector('#df-8ce64087-b7c0-4490-b3c3-3619d9929061 button');\n",
              "      quickchartButtonEl.style.display =\n",
              "        google.colab.kernel.accessAllowed ? 'block' : 'none';\n",
              "    })();\n",
              "  </script>\n",
              "</div>\n",
              "\n",
              "    </div>\n",
              "  </div>\n"
            ],
            "application/vnd.google.colaboratory.intrinsic+json": {
              "type": "dataframe",
              "variable_name": "df",
              "summary": "{\n  \"name\": \"df\",\n  \"rows\": 650,\n  \"fields\": [\n    {\n      \"column\": \"Scheme name\",\n      \"properties\": {\n        \"dtype\": \"string\",\n        \"num_unique_values\": 650,\n        \"samples\": [\n          \"Edelweiss Greater China Equity Off-shore Fund International\",\n          \"Kotak Small Cap Fund Small Cap\",\n          \"Invesco India Gold ETF FoF Gold/ Precious Metals\"\n        ],\n        \"semantic_type\": \"\",\n        \"description\": \"\"\n      }\n    },\n    {\n      \"column\": 2023,\n      \"properties\": {\n        \"dtype\": \"number\",\n        \"std\": 0.1318167580168086,\n        \"min\": -0.0946,\n        \"max\": 0.5903,\n        \"num_unique_values\": 510,\n        \"samples\": [\n          0.2787,\n          0.0952,\n          -0.048\n        ],\n        \"semantic_type\": \"\",\n        \"description\": \"\"\n      }\n    },\n    {\n      \"column\": 2022,\n      \"properties\": {\n        \"dtype\": \"number\",\n        \"std\": 0.0881488028393208,\n        \"min\": -0.3489,\n        \"max\": 1.4382,\n        \"num_unique_values\": 490,\n        \"samples\": [\n          -0.0474,\n          0.0303,\n          0.1057\n        ],\n        \"semantic_type\": \"\",\n        \"description\": \"\"\n      }\n    },\n    {\n      \"column\": 2021,\n      \"properties\": {\n        \"dtype\": \"number\",\n        \"std\": 0.1849888581205752,\n        \"min\": -0.0837,\n        \"max\": 0.9173,\n        \"num_unique_values\": 559,\n        \"samples\": [\n          0.3319,\n          0.2481,\n          0.5943\n        ],\n        \"semantic_type\": \"\",\n        \"description\": \"\"\n      }\n    },\n    {\n      \"column\": 2020,\n      \"properties\": {\n        \"dtype\": \"number\",\n        \"std\": 0.1234730445855293,\n        \"min\": -0.4427,\n        \"max\": 0.7999,\n        \"num_unique_values\": 584,\n        \"samples\": [\n          0.0109,\n          0.1037,\n          0.1026\n        ],\n        \"semantic_type\": \"\",\n        \"description\": \"\"\n      }\n    },\n    {\n      \"column\": 2019,\n      \"properties\": {\n        \"dtype\": \"number\",\n        \"std\": 0.07137644608919204,\n        \"min\": -0.4509,\n        \"max\": 0.4664,\n        \"num_unique_values\": 537,\n        \"samples\": [\n          0.1572,\n          0.0092,\n          0.0666\n        ],\n        \"semantic_type\": \"\",\n        \"description\": \"\"\n      }\n    }\n  ]\n}"
            }
          },
          "metadata": {},
          "execution_count": 24
        }
      ]
    },
    {
      "cell_type": "code",
      "source": [
        "# check for missing values (which I already removed in excel but just double checking)\n",
        "# An inherent survivorship bias is that I am not taking any recent mutual fund which didnt exist atleast since 5 yrs\n",
        "# But this bias is ok to me since I need experienced ppl handling my money duh\n",
        "df.isnull().sum()"
      ],
      "metadata": {
        "colab": {
          "base_uri": "https://localhost:8080/"
        },
        "id": "z1Hwh47NSusz",
        "outputId": "665133b8-bf00-4e66-c253-377fa1aff61a"
      },
      "execution_count": 25,
      "outputs": [
        {
          "output_type": "execute_result",
          "data": {
            "text/plain": [
              "Scheme name    0\n",
              "2023           0\n",
              "2022           0\n",
              "2021           0\n",
              "2020           0\n",
              "2019           0\n",
              "dtype: int64"
            ]
          },
          "metadata": {},
          "execution_count": 25
        }
      ]
    },
    {
      "cell_type": "code",
      "source": [
        "# finding all the numerical columns and putting in an array so that I can iterate over them easily\n",
        "# https://pandas.pydata.org/pandas-docs/stable/reference/api/pandas.DataFrame.select_dtypes.html\n",
        "print(df.select_dtypes(include='number').columns)\n",
        "\n",
        "num_cols = df.select_dtypes(include='number')\n",
        "\n",
        "# Since formula is (1+r/100) so I'm adding 1\n",
        "for i in num_cols:\n",
        "  df[i] = df[i] + 1\n",
        "\n",
        "# just checking whether 1 was added or not\n",
        "print(df.head())"
      ],
      "metadata": {
        "colab": {
          "base_uri": "https://localhost:8080/"
        },
        "id": "Hjta7P0VS2XF",
        "outputId": "76282d73-2cb5-460d-9daa-7df3f0b0ffe3"
      },
      "execution_count": 26,
      "outputs": [
        {
          "output_type": "stream",
          "name": "stdout",
          "text": [
            "Index([2023, 2022, 2021, 2020, 2019], dtype='object')\n",
            "                                         Scheme name    2023    2022    2021  \\\n",
            "0   Nippon India Strategic Debt Fund Medium Duration  1.0762  1.0260  1.1809   \n",
            "1                         JM Flexicap Fund Flexi Cap  1.4155  1.0869  1.3398   \n",
            "2  Aditya Birla Sun Life Medium Term Fund Medium ...  1.0769  1.2573  1.0769   \n",
            "3  ICICI Prudential Income Optimizer Fund (FOF) H...  1.1529  1.0768  1.1141   \n",
            "4                         Quant Focused Fund Focused  1.3034  1.1181  1.3860   \n",
            "\n",
            "     2020    2019  \n",
            "0  0.7693  0.9741  \n",
            "1  1.1225  1.1754  \n",
            "2  1.0894  0.9622  \n",
            "3  1.0987  1.0914  \n",
            "4  1.2538  1.0422  \n"
          ]
        }
      ]
    },
    {
      "cell_type": "markdown",
      "source": [
        "I will take end of 2021 as border line for decision\n",
        "All data before it is considered past data and all after it would be future data"
      ],
      "metadata": {
        "id": "iPiq2QfrUudP"
      }
    },
    {
      "cell_type": "code",
      "source": [
        "# import math\n",
        "df['past_3_yr_return'] = 100*((df[2021]*df[2020]*df[2019])**(1/3)-1)\n",
        "df['past_1_yr_return'] = 100*(df[2021]-1)\n",
        "df['future_2_yr_return'] = 100*((df[2022]*df[2023])**0.5 -1 )\n",
        "\n",
        "print(df.head())"
      ],
      "metadata": {
        "colab": {
          "base_uri": "https://localhost:8080/"
        },
        "id": "WaaN8EKLT9c-",
        "outputId": "9b070287-3988-41f5-d663-b3dfbcbec575"
      },
      "execution_count": 41,
      "outputs": [
        {
          "output_type": "stream",
          "name": "stdout",
          "text": [
            "                                         Scheme name    2023    2022    2021  \\\n",
            "0   Nippon India Strategic Debt Fund Medium Duration  1.0762  1.0260  1.1809   \n",
            "1                         JM Flexicap Fund Flexi Cap  1.4155  1.0869  1.3398   \n",
            "2  Aditya Birla Sun Life Medium Term Fund Medium ...  1.0769  1.2573  1.0769   \n",
            "3  ICICI Prudential Income Optimizer Fund (FOF) H...  1.1529  1.0768  1.1141   \n",
            "4                         Quant Focused Fund Focused  1.3034  1.1181  1.3860   \n",
            "\n",
            "     2020    2019  past_3_yr_return  past_1_yr_return  future_2_yr_return  \n",
            "0  0.7693  0.9741         -3.992727             18.09            5.080027  \n",
            "1  1.1225  1.1754         20.912352             33.98           24.036565  \n",
            "2  1.0894  0.9622          4.122048              7.69           16.360920  \n",
            "3  1.0987  1.0914         10.135945             11.41           11.420048  \n",
            "4  1.2538  1.0422         21.893586             38.60           20.719988  \n"
          ]
        }
      ]
    },
    {
      "cell_type": "code",
      "source": [
        "assumed_avg_inflation_rate = 8\n",
        "sns.scatterplot(x=df['past_3_yr_return'],y=df['past_1_yr_return'],hue=(df['future_2_yr_return']>assumed_avg_inflation_rate),palette='Spectral')\n",
        "# https://seaborn.pydata.org/generated/seaborn.color_palette.html#seaborn.color_palette for colours\n",
        "x = np.linspace(-5,50,1000)\n",
        "y = x\n",
        "plt.plot(x,y)\n",
        "plt.axvline(x=0, color='red', linestyle='--')\n",
        "plt.axvline(x=assumed_avg_inflation_rate, color='red', linestyle='--')\n",
        "plt.axhline(y=0, color='red', linestyle='--')\n",
        "plt.axhline(y=assumed_avg_inflation_rate, color='red', linestyle='--')\n",
        "plt.plot()"
      ],
      "metadata": {
        "colab": {
          "base_uri": "https://localhost:8080/",
          "height": 467
        },
        "id": "5XCTLcF1VYmR",
        "outputId": "c095d50e-d70b-4372-df3b-41b093a65667"
      },
      "execution_count": 52,
      "outputs": [
        {
          "output_type": "execute_result",
          "data": {
            "text/plain": [
              "[]"
            ]
          },
          "metadata": {},
          "execution_count": 52
        },
        {
          "output_type": "display_data",
          "data": {
            "text/plain": [
              "<Figure size 640x480 with 1 Axes>"
            ],
            "image/png": "[encoded data removed]"
          },
          "metadata": {}
        }
      ]
    },
    {
      "cell_type": "code",
      "source": [
        "# assumed_avg_inflation_rate = 8\n",
        "# sns.scatterplot(x=df['past_3_yr_return'],y=df['past_1_yr_return'],hue=(df['future_2_yr_return']>assumed_avg_inflation_rate),palette='Spectral')\n",
        "# # https://seaborn.pydata.org/generated/seaborn.color_palette.html#seaborn.color_palette for colours\n",
        "# x = np.linspace(-5,50,1000)\n",
        "# y = x\n",
        "# plt.plot(x,y)\n",
        "# plt.axvline(x=0, color='red', linestyle='--')\n",
        "# plt.axvline(x=assumed_avg_inflation_rate, color='red', linestyle='--')\n",
        "# plt.axhline(y=0, color='red', linestyle='--')\n",
        "# plt.axhline(y=assumed_avg_inflation_rate, color='red', linestyle='--')\n",
        "# plt.plot()\n",
        "\n",
        "for i in range(1,12):\n",
        "  assumed_avg_inflation_rate = i\n",
        "  sns.scatterplot(x=df['past_3_yr_return'],y=df['past_1_yr_return'],hue=(df['future_2_yr_return']>assumed_avg_inflation_rate),palette='Spectral')\n",
        "  # https://seaborn.pydata.org/generated/seaborn.color_palette.html#seaborn.color_palette for colours\n",
        "  x = np.linspace(-5,50,1000)\n",
        "  y = x\n",
        "  plt.plot(x,y)\n",
        "  plt.axvline(x=0, color='red', linestyle='--')\n",
        "  plt.axvline(x=assumed_avg_inflation_rate, color='red', linestyle='--')\n",
        "  plt.axhline(y=0, color='red', linestyle='--')\n",
        "  plt.axhline(y=assumed_avg_inflation_rate, color='red', linestyle='--')\n",
        "  plt.plot()\n",
        "  plt.savefig('inflation_'+str(i)+'.jpg')\n",
        "  plt.close()"
      ],
      "metadata": {
        "id": "QyVGHn-EmQKH"
      },
      "execution_count": 54,
      "outputs": []
    },
    {
      "cell_type": "code",
      "source": [
        "# MAKING GIF AUTOMATICALLY OUT OF THE IMAGES\n",
        "from PIL import Image, ImageDraw\n",
        "import imageio\n",
        "images_data = []\n",
        "for i in range(1,12):\n",
        "  data = imageio.imread('/content/inflation_'+str(i)+'.jpg')\n",
        "  images_data.append(data) #'simple_option'+str(i)+'.jpeg'\n",
        "\n",
        "# print(images_data)\n",
        "giffile = 'mf_reaction_with_varying_inflation.gif'\n",
        "imageio.mimwrite(giffile, images_data, format= '.gif', fps = 1)\n"
      ],
      "metadata": {
        "colab": {
          "base_uri": "https://localhost:8080/"
        },
        "id": "I7mQ0FNCWUt5",
        "outputId": "38cf7f53-3732-45dc-b5f1-0598b6e9a2cc"
      },
      "execution_count": 56,
      "outputs": [
        {
          "output_type": "stream",
          "name": "stderr",
          "text": [
            "<ipython-input-56-c79c76b74770>:6: DeprecationWarning: Starting with ImageIO v3 the behavior of this function will switch to that of iio.v3.imread. To keep the current behavior (and make this warning disappear) use `import imageio.v2 as imageio` or call `imageio.v2.imread` directly.\n",
            "  data = imageio.imread('/content/inflation_'+str(i)+'.jpg')\n"
          ]
        }
      ]
    },
    {
      "cell_type": "code",
      "source": [],
      "metadata": {
        "id": "LhRpc5Jgn3CG"
      },
      "execution_count": null,
      "outputs": []
    }
  ]
}